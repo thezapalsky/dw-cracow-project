{
 "cells": [
  {
   "cell_type": "code",
   "execution_count": 1,
   "metadata": {},
   "outputs": [],
   "source": [
    "import pandas as pd"
   ]
  },
  {
   "cell_type": "code",
   "execution_count": 29,
   "metadata": {},
   "outputs": [],
   "source": [
    "i_input=[\n",
    "    {\n",
    "      \"ingredients\": [\n",
    "        [\n",
    "          \"awokado\",\n",
    "          \"2 szt.\"\n",
    "        ],\n",
    "        [\n",
    "          \"tofu\",\n",
    "          \"1 opakowanie\"\n",
    "        ],\n",
    "        [\n",
    "          \"orzechy nerkowca\",\n",
    "          \"1 szklanka\"\n",
    "        ],\n",
    "        [\n",
    "          \"czerwona cebula\",\n",
    "          \"1 szt.\"\n",
    "        ],\n",
    "        [\n",
    "          \"seler naciowy\",\n",
    "          \"1 łodyga\"\n",
    "        ],\n",
    "        [\n",
    "          \"słodka papryka\",\n",
    "          \"¼ łyżeczki\"\n",
    "        ],\n",
    "        [\n",
    "          \"sok z cytryny\",\n",
    "          \"1 łyżeczka\"\n",
    "        ],\n",
    "        [\n",
    "          \"musztarda Dijon\",\n",
    "          \"1 łyżka\"\n",
    "        ],\n",
    "        [\n",
    "          \"napój sojowy\",\n",
    "          \"¼ szklanki\"\n",
    "        ],\n",
    "        [\n",
    "          \"kurkuma\",\n",
    "          \"¼ łyżeczki\"\n",
    "        ],\n",
    "        [\n",
    "          \"sól\",\n",
    "          \"\"\n",
    "        ],\n",
    "        [\n",
    "          \"pieprz\",\n",
    "          \"\"\n",
    "        ],\n",
    "        [\n",
    "          \"kiełki rzeżuch\",\n",
    "          \"\"\n",
    "        ]\n",
    "      ],\n",
    "      \"portions\": 4,\n",
    "      \"url\": \"https://kuchnialidla.pl/awokado-faszerowane-pasta-bezjajeczna\"\n",
    "    },\n",
    "    {\n",
    "      \"ingredients\": [\n",
    "        [\n",
    "          \"ciecierzyca w zalewie\",\n",
    "          \"150 g\"\n",
    "        ],\n",
    "        [\n",
    "          \"pierś z kurczaka gotowana lub wędzona\",\n",
    "          \"70 g\"\n",
    "        ],\n",
    "        [\n",
    "          \"ostra papryczka\",\n",
    "          \"½ szt.\"\n",
    "        ],\n",
    "        [\n",
    "          \"świeży imbir\",\n",
    "          \"1 kawałek wielkości kciuka\"\n",
    "        ],\n",
    "        [\n",
    "          \"suszone pomidory\",\n",
    "          \"50 g\"\n",
    "        ],\n",
    "        [\n",
    "          \"wędzone tofu\",\n",
    "          \"1 szt.\"\n",
    "        ],\n",
    "        [\n",
    "          \"mleczko kokosowe\",\n",
    "          \"150 ml\"\n",
    "        ],\n",
    "        [\n",
    "          \"woda\",\n",
    "          \"150 ml\"\n",
    "        ],\n",
    "        [\n",
    "          \"curry\",\n",
    "          \"1 łyżeczka\"\n",
    "        ],\n",
    "        [\n",
    "          \"pomidory pelati lub passata pomidorowa\",\n",
    "          \"3 łyżki\"\n",
    "        ],\n",
    "        [\n",
    "          \"czosnek\",\n",
    "          \"1 ząbek\"\n",
    "        ],\n",
    "        [\n",
    "          \"płatki owsiane błyskawiczne\",\n",
    "          \"2 łyżeczki\"\n",
    "        ],\n",
    "        [\n",
    "          \"sól\",\n",
    "          \"1 szczypta\"\n",
    "        ]\n",
    "      ],\n",
    "      \"portions\": 2,\n",
    "      \"url\": \"https://kuchnialidla.pl/szybka-zupa-z-ciecierzycy\"\n",
    "    }\n",
    "  ]"
   ]
  },
  {
   "cell_type": "code",
   "execution_count": 31,
   "metadata": {},
   "outputs": [
    {
     "data": {
      "text/plain": [
       "'https://kuchnialidla.pl/awokado-faszerowane-pasta-bezjajeczna'"
      ]
     },
     "execution_count": 31,
     "metadata": {},
     "output_type": "execute_result"
    }
   ],
   "source": [
    "i_input[0]['url']"
   ]
  },
  {
   "cell_type": "code",
   "execution_count": 35,
   "metadata": {},
   "outputs": [
    {
     "data": {
      "text/plain": [
       "{'ingredients': [['awokado', '2 szt.'],\n",
       "  ['tofu', '1 opakowanie'],\n",
       "  ['orzechy nerkowca', '1 szklanka'],\n",
       "  ['czerwona cebula', '1 szt.'],\n",
       "  ['seler naciowy', '1 łodyga'],\n",
       "  ['słodka papryka', '¼ łyżeczki'],\n",
       "  ['sok z cytryny', '1 łyżeczka'],\n",
       "  ['musztarda Dijon', '1 łyżka'],\n",
       "  ['napój sojowy', '¼ szklanki'],\n",
       "  ['kurkuma', '¼ łyżeczki'],\n",
       "  ['sól', ''],\n",
       "  ['pieprz', ''],\n",
       "  ['kiełki rzeżuch', '']],\n",
       " 'portions': 4,\n",
       " 'url': 'https://kuchnialidla.pl/awokado-faszerowane-pasta-bezjajeczna'}"
      ]
     },
     "execution_count": 35,
     "metadata": {},
     "output_type": "execute_result"
    }
   ],
   "source": [
    "i_input[0]"
   ]
  },
  {
   "cell_type": "code",
   "execution_count": 36,
   "metadata": {},
   "outputs": [
    {
     "data": {
      "text/plain": [
       "[['awokado', '2 szt.'],\n",
       " ['tofu', '1 opakowanie'],\n",
       " ['orzechy nerkowca', '1 szklanka'],\n",
       " ['czerwona cebula', '1 szt.'],\n",
       " ['seler naciowy', '1 łodyga'],\n",
       " ['słodka papryka', '¼ łyżeczki'],\n",
       " ['sok z cytryny', '1 łyżeczka'],\n",
       " ['musztarda Dijon', '1 łyżka'],\n",
       " ['napój sojowy', '¼ szklanki'],\n",
       " ['kurkuma', '¼ łyżeczki'],\n",
       " ['sól', ''],\n",
       " ['pieprz', ''],\n",
       " ['kiełki rzeżuch', ''],\n",
       " ['ciecierzyca w zalewie', '150 g'],\n",
       " ['pierś z kurczaka gotowana lub wędzona', '70 g'],\n",
       " ['ostra papryczka', '½ szt.'],\n",
       " ['świeży imbir', '1 kawałek wielkości kciuka'],\n",
       " ['suszone pomidory', '50 g'],\n",
       " ['wędzone tofu', '1 szt.'],\n",
       " ['mleczko kokosowe', '150 ml'],\n",
       " ['woda', '150 ml'],\n",
       " ['curry', '1 łyżeczka'],\n",
       " ['pomidory pelati lub passata pomidorowa', '3 łyżki'],\n",
       " ['czosnek', '1 ząbek'],\n",
       " ['płatki owsiane błyskawiczne', '2 łyżeczki'],\n",
       " ['sól', '1 szczypta']]"
      ]
     },
     "execution_count": 36,
     "metadata": {},
     "output_type": "execute_result"
    }
   ],
   "source": [
    "## narazie pominę portions i url\n",
    "\n",
    "ings = []\n",
    "\n",
    "for ing in i_input:\n",
    "    for i in ing['ingredients']:\n",
    "        ings.append(i)\n",
    "ings"
   ]
  },
  {
   "cell_type": "code",
   "execution_count": 55,
   "metadata": {},
   "outputs": [],
   "source": [
    "# names = [item[0]  for item in ings]\n",
    "# unique_names = list(set(names))\n",
    "# print(len(names), len(unique_names))"
   ]
  },
  {
   "cell_type": "code",
   "execution_count": 57,
   "metadata": {},
   "outputs": [
    {
     "data": {
      "text/plain": [
       "{'sól'}"
      ]
     },
     "execution_count": 57,
     "metadata": {},
     "output_type": "execute_result"
    }
   ],
   "source": [
    "#print duplicate names\n",
    "\n",
    "set([x for x in names if names.count(x) > 1])"
   ]
  },
  {
   "cell_type": "code",
   "execution_count": 77,
   "metadata": {},
   "outputs": [
    {
     "data": {
      "text/plain": [
       "['awokado',\n",
       " 'tofu',\n",
       " 'orzechy nerkowca',\n",
       " 'czerwona cebula',\n",
       " 'seler naciowy',\n",
       " 'słodka papryka',\n",
       " 'sok z cytryny',\n",
       " 'musztarda Dijon',\n",
       " 'napój sojowy',\n",
       " 'kurkuma',\n",
       " 'sól',\n",
       " 'pieprz',\n",
       " 'kiełki rzeżuch',\n",
       " 'ciecierzyca w zalewie',\n",
       " 'pierś z kurczaka gotowana lub wędzona',\n",
       " 'ostra papryczka',\n",
       " 'świeży imbir',\n",
       " 'suszone pomidory',\n",
       " 'wędzone tofu',\n",
       " 'mleczko kokosowe',\n",
       " 'woda',\n",
       " 'curry',\n",
       " 'pomidory pelati lub passata pomidorowa',\n",
       " 'czosnek',\n",
       " 'płatki owsiane błyskawiczne',\n",
       " 'sól']"
      ]
     },
     "execution_count": 77,
     "metadata": {},
     "output_type": "execute_result"
    }
   ],
   "source": [
    "names"
   ]
  },
  {
   "cell_type": "code",
   "execution_count": 91,
   "metadata": {},
   "outputs": [],
   "source": [
    "# #text distance\n",
    "\n",
    "# #%pip install textdistance\n",
    "# import textdistance as td\n",
    "\n",
    "# def FindSimilarIngrs(ingr, names, tol = .0 ):\n",
    "#     for name in names: \n",
    "#         score = td.hamming.normalized_similarity(name,ingr)\n",
    "#         if( score >= tol ):\n",
    "#             kro = (name, score)\n",
    "#             print( kro )\n",
    "# FindSimilarIngrs('pomidor', names,.1)\n",
    "\n",
    "# ## to rozwiazanie dla 'pomidor' i 'suszone pomidory' zwraca 0"
   ]
  },
  {
   "cell_type": "code",
   "execution_count": 119,
   "metadata": {},
   "outputs": [
    {
     "data": {
      "text/plain": [
       "True"
      ]
     },
     "execution_count": 119,
     "metadata": {},
     "output_type": "execute_result"
    }
   ],
   "source": [
    "'pomidor' in 'pomidory pelati lub passata pomidorowa'"
   ]
  },
  {
   "cell_type": "code",
   "execution_count": 136,
   "metadata": {},
   "outputs": [
    {
     "name": "stdout",
     "output_type": "stream",
     "text": [
      "słodka papryka 0.6666666666666666\n",
      "słodka papryka\n",
      "ostra papryczka 0.6363636363636364\n"
     ]
    }
   ],
   "source": [
    "#import difflib\n",
    "def find_similar(ingredient, names, tol = .0):\n",
    "    for i,name in enumerate(names):\n",
    "        match = difflib.SequenceMatcher(None, ingredient, name).ratio()\n",
    "        if match >= tol:\n",
    "            print(name, match)\n",
    "        if(ingredient in name):\n",
    "            print(name)\n",
    "\n",
    "find_similar('papryka', names,.5)"
   ]
  },
  {
   "cell_type": "code",
   "execution_count": null,
   "metadata": {},
   "outputs": [],
   "source": [
    "# step 1 - alfabetycznie\n",
    "# step 2 - laczenie skladnikow\n",
    "# step 3 - lematyzacja"
   ]
  },
  {
   "cell_type": "code",
   "execution_count": 72,
   "metadata": {},
   "outputs": [],
   "source": [
    "# def Clear(names):\n",
    "#     n=[]\n",
    "#     for name in names:\n",
    "#         a=re.sub('[^a-ząćęółżźśń ]+', '', name)\n",
    "#         n.append(a)\n",
    "#     return n\n",
    "# names = Clear(names)"
   ]
  }
 ],
 "metadata": {
  "kernelspec": {
   "display_name": "Python 3",
   "language": "python",
   "name": "python3"
  },
  "language_info": {
   "codemirror_mode": {
    "name": "ipython",
    "version": 3
   },
   "file_extension": ".py",
   "mimetype": "text/x-python",
   "name": "python",
   "nbconvert_exporter": "python",
   "pygments_lexer": "ipython3",
   "version": "3.7.5"
  }
 },
 "nbformat": 4,
 "nbformat_minor": 2
}
